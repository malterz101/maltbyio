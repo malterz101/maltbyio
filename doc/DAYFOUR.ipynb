{
 "cells": [
  {
   "cell_type": "code",
   "execution_count": 28,
   "metadata": {
    "collapsed": false
   },
   "outputs": [
    {
     "name": "stdout",
     "output_type": "stream",
     "text": [
      "Part A: \nGuard:  2039\nMinute:  49\nResult =  99911\n"
     ]
    }
   ],
   "source": [
    "# THIS IS AN EXAMPLE FROM AN ADVENT OF CODE - FIND MORE ON MY GITHUB\n",
    "\n",
    "import re\n",
    "import pandas as pd\n",
    "\n",
    "\n",
    "with open('Inputs/AoCInput4') as f:\n",
    "    content = f.readlines()\n",
    "content = [(x.strip()) for x in content] \n",
    "content.sort()\n",
    "content\n",
    "\n",
    "data = []\n",
    "\n",
    "guard = None\n",
    "sleep_start = []\n",
    "sleep_end = []\n",
    "shift_start = None\n",
    "\n",
    "for row in content:\n",
    "    if re.match('.*(Guard)', row):\n",
    "        if guard is not None:\n",
    "            time_asleep = 0\n",
    "            nap_time = []\n",
    "            for x, y in zip(sleep_start, sleep_end):\n",
    "                time_asleep += y-x\n",
    "                nap_time.append(y-x)\n",
    "            data.append({'Guard': guard,\n",
    "                         'nap_starts': sleep_start,\n",
    "                         'nap_ends': sleep_end,\n",
    "                         'time_asleep': time_asleep\n",
    "                         })\n",
    "        \n",
    "        guard = re.findall('.*Guard #(.*?) b?', row)[0]\n",
    "        sleep_start = []\n",
    "        sleep_end = []\n",
    "    if re.match('.*(falls)', row):\n",
    "        sleep_start.append(int(re.findall('\\[.*?\\s?...(..)].*', row)[0]))\n",
    "    if re.match('.*(wakes)', row):\n",
    "        sleep_end.append(int(re.findall('\\[.*?\\s?...(..)].*', row)[0]))\n",
    "        \n",
    "sleepiest = pd.DataFrame(data).groupby(['Guard']).agg(sum).sort_values(\n",
    "    by='time_asleep', ascending=False)\n",
    "\n",
    "\n",
    "nap_range = []\n",
    "\n",
    "for shift in data:\n",
    "    if shift['Guard'] == re.findall('Name: (.*),', str(sleepiest.iloc[0]))[0]:\n",
    "        for nap, awake in zip(shift['nap_starts'], shift['nap_ends']):\n",
    "            for minute in range(nap, awake):\n",
    "                nap_range.append(minute)\n",
    "\n",
    "print('Part A: ')\n",
    "print('Guard: ', re.findall('Name: (.*),', str(sleepiest.iloc[0]))[0])\n",
    "print('Minute: ', max(set(nap_range), key=nap_range.count))\n",
    "\n",
    "print('Result = ', int(re.findall('Name: (.*),',\n",
    "                                  str(sleepiest.iloc[0]))[0]) * max(set(nap_range),\n",
    "                                                                    key=nap_range.count))"
   ]
  },
  {
   "cell_type": "code",
   "execution_count": 32,
   "metadata": {},
   "outputs": [
    {
     "name": "stdout",
     "output_type": "stream",
     "text": [
      "Part B:\n1733 * 38 = 65854\n"
     ]
    }
   ],
   "source": [
    "nap_range_2 = []\n",
    "\n",
    "for shift in data:\n",
    "    nap_minutes = []\n",
    "    for shifts in data:\n",
    "        if shift['Guard'] == shifts['Guard']:\n",
    "            for nap, awake in zip(shifts['nap_starts'], shifts['nap_ends']):\n",
    "                for minutes in range(nap, awake):\n",
    "                    nap_minutes.append(minutes)\n",
    "                    \n",
    "    try:\n",
    "        a = max(set(nap_minutes), key=nap_minutes.count)\n",
    "        nap_range_2.append({'Guard': shift['Guard'],\n",
    "                            'freq': str(a),\n",
    "                            'count': nap_minutes.count(a)})\n",
    "    except:\n",
    "        pass\n",
    "            \n",
    "a = pd.DataFrame(nap_range_2).sort_values(by='count', ascending=False).drop_duplicates().iloc[0]\n",
    "\n",
    "print('Part B:')\n",
    "print(int(a['Guard']), '*', int(a['freq']), '=', int(a['Guard'])*int(a['freq']))"
   ]
  },
  {
   "cell_type": "code",
   "execution_count": null,
   "metadata": {},
   "outputs": [],
   "source": []
  }
 ],
 "metadata": {
  "kernelspec": {
   "display_name": "Python 2",
   "language": "python",
   "name": "python2"
  },
  "language_info": {
   "codemirror_mode": {
    "name": "ipython",
    "version": 2
   },
   "file_extension": ".py",
   "mimetype": "text/x-python",
   "name": "python",
   "nbconvert_exporter": "python",
   "pygments_lexer": "ipython2",
   "version": "2.7.6"
  }
 },
 "nbformat": 4,
 "nbformat_minor": 0
}
